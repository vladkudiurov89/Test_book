{
 "cells": [
  {
   "cell_type": "code",
   "execution_count": 15,
   "metadata": {},
   "outputs": [],
   "source": [
    "import matplotlib.pyplot as plt\n",
    "import numpy as np\n",
    "import pandas as pd\n",
    "from sklearn.linear_model import LinearRegression\n",
    "import matplotlib.dates as dates"
   ]
  },
  {
   "cell_type": "code",
   "execution_count": null,
   "metadata": {},
   "outputs": [],
   "source": [
    "  "
   ]
  },
  {
   "cell_type": "code",
   "execution_count": 16,
   "metadata": {},
   "outputs": [],
   "source": [
    "### обработка даных ###"
   ]
  },
  {
   "cell_type": "code",
   "execution_count": 17,
   "metadata": {},
   "outputs": [],
   "source": [
    "col_names = ['date', 'value'] # названия колонок для последующего присвоения"
   ]
  },
  {
   "cell_type": "code",
   "execution_count": 18,
   "metadata": {},
   "outputs": [],
   "source": [
    "# Считывание таблицы с курсом долара, выбор колонок только с датой и значением. Затем присвоение новых имен колонкам.\n",
    "money = pd.read_csv('kurs.csv', sep = ';', decimal = ',', dayfirst = True, parse_dates = [1])[['data', 'curs']]\n",
    "money.columns = col_names"
   ]
  },
  {
   "cell_type": "code",
   "execution_count": 19,
   "metadata": {},
   "outputs": [],
   "source": [
    "# Считывание таблицы с курсом нефти, выбор колонок только с датой и значением. Затем присвоение новых имен колонкам.\n",
    "oil = pd.read_csv('oil.csv', sep = ';', decimal = ',', dayfirst = True, parse_dates = [2])[['<DATE>', '<OPEN>']]\n",
    "oil.columns = col_names"
   ]
  },
  {
   "cell_type": "code",
   "execution_count": 20,
   "metadata": {},
   "outputs": [],
   "source": [
    "data = pd.merge(money, oil, on = ['date']) # Совмещение двух таблиц по одинаковой дате"
   ]
  },
  {
   "cell_type": "code",
   "execution_count": 21,
   "metadata": {},
   "outputs": [
    {
     "data": {
      "text/html": [
       "<div>\n",
       "<style scoped>\n",
       "    .dataframe tbody tr th:only-of-type {\n",
       "        vertical-align: middle;\n",
       "    }\n",
       "\n",
       "    .dataframe tbody tr th {\n",
       "        vertical-align: top;\n",
       "    }\n",
       "\n",
       "    .dataframe thead th {\n",
       "        text-align: right;\n",
       "    }\n",
       "</style>\n",
       "<table border=\"1\" class=\"dataframe\">\n",
       "  <thead>\n",
       "    <tr style=\"text-align: right;\">\n",
       "      <th></th>\n",
       "      <th>date</th>\n",
       "      <th>value_x</th>\n",
       "      <th>value_y</th>\n",
       "    </tr>\n",
       "  </thead>\n",
       "  <tbody>\n",
       "    <tr>\n",
       "      <th>0</th>\n",
       "      <td>2015-06-18</td>\n",
       "      <td>53.8999</td>\n",
       "      <td>63.7400000</td>\n",
       "    </tr>\n",
       "    <tr>\n",
       "      <th>1</th>\n",
       "      <td>2015-06-19</td>\n",
       "      <td>53.3301</td>\n",
       "      <td>64.2000000</td>\n",
       "    </tr>\n",
       "    <tr>\n",
       "      <th>2</th>\n",
       "      <td>2015-06-23</td>\n",
       "      <td>53.5569</td>\n",
       "      <td>63.2100000</td>\n",
       "    </tr>\n",
       "    <tr>\n",
       "      <th>3</th>\n",
       "      <td>2015-06-24</td>\n",
       "      <td>54.2081</td>\n",
       "      <td>64.6900000</td>\n",
       "    </tr>\n",
       "    <tr>\n",
       "      <th>4</th>\n",
       "      <td>2015-06-25</td>\n",
       "      <td>54.0746</td>\n",
       "      <td>63.5000000</td>\n",
       "    </tr>\n",
       "  </tbody>\n",
       "</table>\n",
       "</div>"
      ],
      "text/plain": [
       "        date  value_x     value_y\n",
       "0 2015-06-18  53.8999  63.7400000\n",
       "1 2015-06-19  53.3301  64.2000000\n",
       "2 2015-06-23  53.5569  63.2100000\n",
       "3 2015-06-24  54.2081  64.6900000\n",
       "4 2015-06-25  54.0746  63.5000000"
      ]
     },
     "execution_count": 21,
     "metadata": {},
     "output_type": "execute_result"
    }
   ],
   "source": [
    "data.head(5)"
   ]
  },
  {
   "cell_type": "code",
   "execution_count": null,
   "metadata": {},
   "outputs": [],
   "source": []
  },
  {
   "cell_type": "code",
   "execution_count": 22,
   "metadata": {},
   "outputs": [],
   "source": [
    "### создание модели ###"
   ]
  },
  {
   "cell_type": "code",
   "execution_count": 23,
   "metadata": {},
   "outputs": [],
   "source": [
    "end = 770 # номер окончания обучающих данных"
   ]
  },
  {
   "cell_type": "code",
   "execution_count": 24,
   "metadata": {},
   "outputs": [],
   "source": [
    "x = data[['value_y']][:end]   # обучающие данные на вход\n",
    "y = data['value_x'][:end]     # обучающие данные на выход"
   ]
  },
  {
   "cell_type": "code",
   "execution_count": 25,
   "metadata": {},
   "outputs": [],
   "source": [
    "x_test = data[['value_y']][end:]   # тестовые данные на вход\n",
    "y_test = data[['value_x']][end:]   # тестовые данные на выход (для сравнения с предсказанными)"
   ]
  },
  {
   "cell_type": "code",
   "execution_count": 26,
   "metadata": {},
   "outputs": [],
   "source": [
    "reg = LinearRegression().fit(x, y) # обучение модели"
   ]
  },
  {
   "cell_type": "code",
   "execution_count": 27,
   "metadata": {},
   "outputs": [],
   "source": [
    "y_predicted = reg.predict(x_test) # выполнение предсказания"
   ]
  },
  {
   "cell_type": "code",
   "execution_count": null,
   "metadata": {},
   "outputs": [],
   "source": []
  },
  {
   "cell_type": "code",
   "execution_count": 28,
   "metadata": {},
   "outputs": [
    {
     "data": {
      "text/plain": [
       "<matplotlib.legend.Legend at 0x24fefc76b38>"
      ]
     },
     "execution_count": 28,
     "metadata": {},
     "output_type": "execute_result"
    },
    {
     "data": {
      "image/png": "[encoded data removed]",
      "text/plain": [
       "<Figure size 432x288 with 1 Axes>"
      ]
     },
     "metadata": {
      "needs_background": "light"
     },
     "output_type": "display_data"
    }
   ],
   "source": [
    "# визуализация:\n",
    "plt.xticks(rotation = 30) # поворот опорных значений для оси Х\n",
    "\n",
    "plt.xlabel(\"DATE\")        # обозначение оси Х\n",
    "plt.ylabel(\"VALUE\")       # обозначение оси У\n",
    "\n",
    "plt.plot(data['date'], data[['value_x']], label = 'real')                     # реальных данных\n",
    "plt.plot(data['date'], list(y) + list(y_predicted), label = \"predicted\")      # реальных + предсказанных данных\n",
    "plt.plot(data['date'], reg.predict(data[['value_y']]), label = \"regression\")  # полностью предсказанных данных\n",
    "\n",
    "plt.legend()  #вывод графиков"
   ]
  },
  {
   "cell_type": "code",
   "execution_count": null,
   "metadata": {},
   "outputs": [],
   "source": []
  }
 ],
 "metadata": {
  "kernelspec": {
   "display_name": "Python 3",
   "language": "python",
   "name": "python3"
  },
  "language_info": {
   "codemirror_mode": {
    "name": "ipython",
    "version": 3
   },
   "file_extension": ".py",
   "mimetype": "text/x-python",
   "name": "python",
   "nbconvert_exporter": "python",
   "pygments_lexer": "ipython3",
   "version": "3.7.3"
  }
 },
 "nbformat": 4,
 "nbformat_minor": 2
}
